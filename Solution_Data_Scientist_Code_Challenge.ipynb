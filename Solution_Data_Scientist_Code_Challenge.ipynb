{
  "nbformat": 4,
  "nbformat_minor": 0,
  "metadata": {
    "colab": {
      "provenance": []
    },
    "kernelspec": {
      "name": "python3",
      "display_name": "Python 3"
    },
    "language_info": {
      "name": "python"
    }
  },
  "cells": [
    {
      "cell_type": "markdown",
      "source": [
        "# Data Scientist - Code Challenge\n",
        "We need to predict the demand for the next 24 hours by utilizing past electricity demand data points, humidity, temperature, dew point, and other drivers like weekdays, holidays, and etc.\n",
        "\n",
        "Inputs: sample data.csv is attached.\n",
        "\n",
        "Output: A 24-hour demand forecast for a sample day in July or August.\n",
        "\n",
        "General Requirements The data set may contain outliers and abnormal values. This is everything you need to know about having a better development experience.\n",
        "\n",
        "Write an instruction to run the project.\n",
        "\n",
        "Don’t commit the .vscode or .idea directory.\n",
        "\n",
        "Evaluation: The work will be evaluated based on the accuracy of the electricity demand forecast, the clarity of the code and documentation, and the overall effectiveness of the solution.\n",
        "\n",
        "The acceptable error rate must be less than 5% (AE < 500 MW, or accuracy more than 95%)\n",
        "\n",
        "Deliverables for the Code Challenge\n",
        "\n",
        "Detailed Report: Provide a comprehensive report covering model selection, fine-tuning processes, evaluation metrics, and results.\n",
        "\n",
        "Code and Documentation: Include all code and documentation necessary to reproduce the experiments and results.\n",
        "\n",
        "Submission Please submit a GitHub link with your work and fork the repository for collaboration.\n",
        "\n",
        "You have 1 week to send the challenge!"
      ],
      "metadata": {
        "id": "YZmaPhc0zIKk"
      }
    },
    {
      "cell_type": "code",
      "execution_count": null,
      "metadata": {
        "id": "zgT7VWM79nZG"
      },
      "outputs": [],
      "source": [
        "import pandas as pd\n",
        "import numpy as np\n",
        "import matplotlib.pyplot as plt\n",
        "from sklearn.preprocessing import StandardScaler\n",
        "from sklearn.ensemble import RandomForestRegressor\n",
        "from sklearn.metrics import mean_absolute_error, mean_absolute_percentage_error\n",
        "import joblib"
      ]
    },
    {
      "cell_type": "code",
      "source": [
        "# Load the dataset\n",
        "file_path = 'Sample Dataset.csv'\n",
        "df = pd.read_csv(file_path)"
      ],
      "metadata": {
        "id": "TNs3uXBx942q"
      },
      "execution_count": null,
      "outputs": []
    },
    {
      "cell_type": "code",
      "source": [
        "df.head()"
      ],
      "metadata": {
        "colab": {
          "base_uri": "https://localhost:8080/",
          "height": 293
        },
        "id": "GSVS8FwL9-NW",
        "outputId": "09b786bb-6993-4f61-c826-52cc53723893"
      },
      "execution_count": null,
      "outputs": [
        {
          "output_type": "execute_result",
          "data": {
            "text/plain": [
              "         Date Weekday  Hour  HOEP  Ontario_Demand  Temperature  \\\n",
              "0  2016-01-01  Friday     0  0.49           14023         -0.3   \n",
              "1  2016-01-01  Friday     1 -1.09           13417         -0.3   \n",
              "2  2016-01-01  Friday     2 -2.41           12968         -0.4   \n",
              "3  2016-01-01  Friday    12  0.00           14215         -2.1   \n",
              "4  2016-01-01  Friday    13  0.00           14443         -2.4   \n",
              "\n",
              "   Windchill_Index  Wind_Speed  Humidex  Relative_Humidity  Dew_Point  \\\n",
              "0            -5.62          20    -3.18                 70       -5.1   \n",
              "1            -6.30          25    -3.48                 68       -5.5   \n",
              "2            -6.55          26    -3.43                 73       -4.7   \n",
              "3            -8.72          23    -4.86                 76       -5.8   \n",
              "4            -8.23          19    -5.09                 84       -4.7   \n",
              "\n",
              "   Pressure_Station  \n",
              "0             99.67  \n",
              "1             99.63  \n",
              "2             99.59  \n",
              "3             99.39  \n",
              "4             99.35  "
            ],
            "text/html": [
              "\n",
              "  <div id=\"df-c99a627f-ad43-4fc4-9519-816068ecb3df\" class=\"colab-df-container\">\n",
              "    <div>\n",
              "<style scoped>\n",
              "    .dataframe tbody tr th:only-of-type {\n",
              "        vertical-align: middle;\n",
              "    }\n",
              "\n",
              "    .dataframe tbody tr th {\n",
              "        vertical-align: top;\n",
              "    }\n",
              "\n",
              "    .dataframe thead th {\n",
              "        text-align: right;\n",
              "    }\n",
              "</style>\n",
              "<table border=\"1\" class=\"dataframe\">\n",
              "  <thead>\n",
              "    <tr style=\"text-align: right;\">\n",
              "      <th></th>\n",
              "      <th>Date</th>\n",
              "      <th>Weekday</th>\n",
              "      <th>Hour</th>\n",
              "      <th>HOEP</th>\n",
              "      <th>Ontario_Demand</th>\n",
              "      <th>Temperature</th>\n",
              "      <th>Windchill_Index</th>\n",
              "      <th>Wind_Speed</th>\n",
              "      <th>Humidex</th>\n",
              "      <th>Relative_Humidity</th>\n",
              "      <th>Dew_Point</th>\n",
              "      <th>Pressure_Station</th>\n",
              "    </tr>\n",
              "  </thead>\n",
              "  <tbody>\n",
              "    <tr>\n",
              "      <th>0</th>\n",
              "      <td>2016-01-01</td>\n",
              "      <td>Friday</td>\n",
              "      <td>0</td>\n",
              "      <td>0.49</td>\n",
              "      <td>14023</td>\n",
              "      <td>-0.3</td>\n",
              "      <td>-5.62</td>\n",
              "      <td>20</td>\n",
              "      <td>-3.18</td>\n",
              "      <td>70</td>\n",
              "      <td>-5.1</td>\n",
              "      <td>99.67</td>\n",
              "    </tr>\n",
              "    <tr>\n",
              "      <th>1</th>\n",
              "      <td>2016-01-01</td>\n",
              "      <td>Friday</td>\n",
              "      <td>1</td>\n",
              "      <td>-1.09</td>\n",
              "      <td>13417</td>\n",
              "      <td>-0.3</td>\n",
              "      <td>-6.30</td>\n",
              "      <td>25</td>\n",
              "      <td>-3.48</td>\n",
              "      <td>68</td>\n",
              "      <td>-5.5</td>\n",
              "      <td>99.63</td>\n",
              "    </tr>\n",
              "    <tr>\n",
              "      <th>2</th>\n",
              "      <td>2016-01-01</td>\n",
              "      <td>Friday</td>\n",
              "      <td>2</td>\n",
              "      <td>-2.41</td>\n",
              "      <td>12968</td>\n",
              "      <td>-0.4</td>\n",
              "      <td>-6.55</td>\n",
              "      <td>26</td>\n",
              "      <td>-3.43</td>\n",
              "      <td>73</td>\n",
              "      <td>-4.7</td>\n",
              "      <td>99.59</td>\n",
              "    </tr>\n",
              "    <tr>\n",
              "      <th>3</th>\n",
              "      <td>2016-01-01</td>\n",
              "      <td>Friday</td>\n",
              "      <td>12</td>\n",
              "      <td>0.00</td>\n",
              "      <td>14215</td>\n",
              "      <td>-2.1</td>\n",
              "      <td>-8.72</td>\n",
              "      <td>23</td>\n",
              "      <td>-4.86</td>\n",
              "      <td>76</td>\n",
              "      <td>-5.8</td>\n",
              "      <td>99.39</td>\n",
              "    </tr>\n",
              "    <tr>\n",
              "      <th>4</th>\n",
              "      <td>2016-01-01</td>\n",
              "      <td>Friday</td>\n",
              "      <td>13</td>\n",
              "      <td>0.00</td>\n",
              "      <td>14443</td>\n",
              "      <td>-2.4</td>\n",
              "      <td>-8.23</td>\n",
              "      <td>19</td>\n",
              "      <td>-5.09</td>\n",
              "      <td>84</td>\n",
              "      <td>-4.7</td>\n",
              "      <td>99.35</td>\n",
              "    </tr>\n",
              "  </tbody>\n",
              "</table>\n",
              "</div>\n",
              "    <div class=\"colab-df-buttons\">\n",
              "\n",
              "  <div class=\"colab-df-container\">\n",
              "    <button class=\"colab-df-convert\" onclick=\"convertToInteractive('df-c99a627f-ad43-4fc4-9519-816068ecb3df')\"\n",
              "            title=\"Convert this dataframe to an interactive table.\"\n",
              "            style=\"display:none;\">\n",
              "\n",
              "  <svg xmlns=\"http://www.w3.org/2000/svg\" height=\"24px\" viewBox=\"0 -960 960 960\">\n",
              "    <path d=\"M120-120v-720h720v720H120Zm60-500h600v-160H180v160Zm220 220h160v-160H400v160Zm0 220h160v-160H400v160ZM180-400h160v-160H180v160Zm440 0h160v-160H620v160ZM180-180h160v-160H180v160Zm440 0h160v-160H620v160Z\"/>\n",
              "  </svg>\n",
              "    </button>\n",
              "\n",
              "  <style>\n",
              "    .colab-df-container {\n",
              "      display:flex;\n",
              "      gap: 12px;\n",
              "    }\n",
              "\n",
              "    .colab-df-convert {\n",
              "      background-color: #E8F0FE;\n",
              "      border: none;\n",
              "      border-radius: 50%;\n",
              "      cursor: pointer;\n",
              "      display: none;\n",
              "      fill: #1967D2;\n",
              "      height: 32px;\n",
              "      padding: 0 0 0 0;\n",
              "      width: 32px;\n",
              "    }\n",
              "\n",
              "    .colab-df-convert:hover {\n",
              "      background-color: #E2EBFA;\n",
              "      box-shadow: 0px 1px 2px rgba(60, 64, 67, 0.3), 0px 1px 3px 1px rgba(60, 64, 67, 0.15);\n",
              "      fill: #174EA6;\n",
              "    }\n",
              "\n",
              "    .colab-df-buttons div {\n",
              "      margin-bottom: 4px;\n",
              "    }\n",
              "\n",
              "    [theme=dark] .colab-df-convert {\n",
              "      background-color: #3B4455;\n",
              "      fill: #D2E3FC;\n",
              "    }\n",
              "\n",
              "    [theme=dark] .colab-df-convert:hover {\n",
              "      background-color: #434B5C;\n",
              "      box-shadow: 0px 1px 3px 1px rgba(0, 0, 0, 0.15);\n",
              "      filter: drop-shadow(0px 1px 2px rgba(0, 0, 0, 0.3));\n",
              "      fill: #FFFFFF;\n",
              "    }\n",
              "  </style>\n",
              "\n",
              "    <script>\n",
              "      const buttonEl =\n",
              "        document.querySelector('#df-c99a627f-ad43-4fc4-9519-816068ecb3df button.colab-df-convert');\n",
              "      buttonEl.style.display =\n",
              "        google.colab.kernel.accessAllowed ? 'block' : 'none';\n",
              "\n",
              "      async function convertToInteractive(key) {\n",
              "        const element = document.querySelector('#df-c99a627f-ad43-4fc4-9519-816068ecb3df');\n",
              "        const dataTable =\n",
              "          await google.colab.kernel.invokeFunction('convertToInteractive',\n",
              "                                                    [key], {});\n",
              "        if (!dataTable) return;\n",
              "\n",
              "        const docLinkHtml = 'Like what you see? Visit the ' +\n",
              "          '<a target=\"_blank\" href=https://colab.research.google.com/notebooks/data_table.ipynb>data table notebook</a>'\n",
              "          + ' to learn more about interactive tables.';\n",
              "        element.innerHTML = '';\n",
              "        dataTable['output_type'] = 'display_data';\n",
              "        await google.colab.output.renderOutput(dataTable, element);\n",
              "        const docLink = document.createElement('div');\n",
              "        docLink.innerHTML = docLinkHtml;\n",
              "        element.appendChild(docLink);\n",
              "      }\n",
              "    </script>\n",
              "  </div>\n",
              "\n",
              "\n",
              "<div id=\"df-e5709cfd-20de-4379-99e1-f2bff4658484\">\n",
              "  <button class=\"colab-df-quickchart\" onclick=\"quickchart('df-e5709cfd-20de-4379-99e1-f2bff4658484')\"\n",
              "            title=\"Suggest charts\"\n",
              "            style=\"display:none;\">\n",
              "\n",
              "<svg xmlns=\"http://www.w3.org/2000/svg\" height=\"24px\"viewBox=\"0 0 24 24\"\n",
              "     width=\"24px\">\n",
              "    <g>\n",
              "        <path d=\"M19 3H5c-1.1 0-2 .9-2 2v14c0 1.1.9 2 2 2h14c1.1 0 2-.9 2-2V5c0-1.1-.9-2-2-2zM9 17H7v-7h2v7zm4 0h-2V7h2v10zm4 0h-2v-4h2v4z\"/>\n",
              "    </g>\n",
              "</svg>\n",
              "  </button>\n",
              "\n",
              "<style>\n",
              "  .colab-df-quickchart {\n",
              "      --bg-color: #E8F0FE;\n",
              "      --fill-color: #1967D2;\n",
              "      --hover-bg-color: #E2EBFA;\n",
              "      --hover-fill-color: #174EA6;\n",
              "      --disabled-fill-color: #AAA;\n",
              "      --disabled-bg-color: #DDD;\n",
              "  }\n",
              "\n",
              "  [theme=dark] .colab-df-quickchart {\n",
              "      --bg-color: #3B4455;\n",
              "      --fill-color: #D2E3FC;\n",
              "      --hover-bg-color: #434B5C;\n",
              "      --hover-fill-color: #FFFFFF;\n",
              "      --disabled-bg-color: #3B4455;\n",
              "      --disabled-fill-color: #666;\n",
              "  }\n",
              "\n",
              "  .colab-df-quickchart {\n",
              "    background-color: var(--bg-color);\n",
              "    border: none;\n",
              "    border-radius: 50%;\n",
              "    cursor: pointer;\n",
              "    display: none;\n",
              "    fill: var(--fill-color);\n",
              "    height: 32px;\n",
              "    padding: 0;\n",
              "    width: 32px;\n",
              "  }\n",
              "\n",
              "  .colab-df-quickchart:hover {\n",
              "    background-color: var(--hover-bg-color);\n",
              "    box-shadow: 0 1px 2px rgba(60, 64, 67, 0.3), 0 1px 3px 1px rgba(60, 64, 67, 0.15);\n",
              "    fill: var(--button-hover-fill-color);\n",
              "  }\n",
              "\n",
              "  .colab-df-quickchart-complete:disabled,\n",
              "  .colab-df-quickchart-complete:disabled:hover {\n",
              "    background-color: var(--disabled-bg-color);\n",
              "    fill: var(--disabled-fill-color);\n",
              "    box-shadow: none;\n",
              "  }\n",
              "\n",
              "  .colab-df-spinner {\n",
              "    border: 2px solid var(--fill-color);\n",
              "    border-color: transparent;\n",
              "    border-bottom-color: var(--fill-color);\n",
              "    animation:\n",
              "      spin 1s steps(1) infinite;\n",
              "  }\n",
              "\n",
              "  @keyframes spin {\n",
              "    0% {\n",
              "      border-color: transparent;\n",
              "      border-bottom-color: var(--fill-color);\n",
              "      border-left-color: var(--fill-color);\n",
              "    }\n",
              "    20% {\n",
              "      border-color: transparent;\n",
              "      border-left-color: var(--fill-color);\n",
              "      border-top-color: var(--fill-color);\n",
              "    }\n",
              "    30% {\n",
              "      border-color: transparent;\n",
              "      border-left-color: var(--fill-color);\n",
              "      border-top-color: var(--fill-color);\n",
              "      border-right-color: var(--fill-color);\n",
              "    }\n",
              "    40% {\n",
              "      border-color: transparent;\n",
              "      border-right-color: var(--fill-color);\n",
              "      border-top-color: var(--fill-color);\n",
              "    }\n",
              "    60% {\n",
              "      border-color: transparent;\n",
              "      border-right-color: var(--fill-color);\n",
              "    }\n",
              "    80% {\n",
              "      border-color: transparent;\n",
              "      border-right-color: var(--fill-color);\n",
              "      border-bottom-color: var(--fill-color);\n",
              "    }\n",
              "    90% {\n",
              "      border-color: transparent;\n",
              "      border-bottom-color: var(--fill-color);\n",
              "    }\n",
              "  }\n",
              "</style>\n",
              "\n",
              "  <script>\n",
              "    async function quickchart(key) {\n",
              "      const quickchartButtonEl =\n",
              "        document.querySelector('#' + key + ' button');\n",
              "      quickchartButtonEl.disabled = true;  // To prevent multiple clicks.\n",
              "      quickchartButtonEl.classList.add('colab-df-spinner');\n",
              "      try {\n",
              "        const charts = await google.colab.kernel.invokeFunction(\n",
              "            'suggestCharts', [key], {});\n",
              "      } catch (error) {\n",
              "        console.error('Error during call to suggestCharts:', error);\n",
              "      }\n",
              "      quickchartButtonEl.classList.remove('colab-df-spinner');\n",
              "      quickchartButtonEl.classList.add('colab-df-quickchart-complete');\n",
              "    }\n",
              "    (() => {\n",
              "      let quickchartButtonEl =\n",
              "        document.querySelector('#df-e5709cfd-20de-4379-99e1-f2bff4658484 button');\n",
              "      quickchartButtonEl.style.display =\n",
              "        google.colab.kernel.accessAllowed ? 'block' : 'none';\n",
              "    })();\n",
              "  </script>\n",
              "</div>\n",
              "\n",
              "    </div>\n",
              "  </div>\n"
            ],
            "application/vnd.google.colaboratory.intrinsic+json": {
              "type": "dataframe",
              "variable_name": "df",
              "summary": "{\n  \"name\": \"df\",\n  \"rows\": 39408,\n  \"fields\": [\n    {\n      \"column\": \"Date\",\n      \"properties\": {\n        \"dtype\": \"object\",\n        \"num_unique_values\": 1827,\n        \"samples\": [\n          \"2016-09-04\",\n          \"2019-07-17\",\n          \"2020-04-11\"\n        ],\n        \"semantic_type\": \"\",\n        \"description\": \"\"\n      }\n    },\n    {\n      \"column\": \"Weekday\",\n      \"properties\": {\n        \"dtype\": \"category\",\n        \"num_unique_values\": 7,\n        \"samples\": [\n          \"Friday\",\n          \"Saturday\",\n          \"Wednesday\"\n        ],\n        \"semantic_type\": \"\",\n        \"description\": \"\"\n      }\n    },\n    {\n      \"column\": \"Hour\",\n      \"properties\": {\n        \"dtype\": \"number\",\n        \"std\": 6,\n        \"min\": 0,\n        \"max\": 23,\n        \"num_unique_values\": 24,\n        \"samples\": [\n          17,\n          7,\n          0\n        ],\n        \"semantic_type\": \"\",\n        \"description\": \"\"\n      }\n    },\n    {\n      \"column\": \"HOEP\",\n      \"properties\": {\n        \"dtype\": \"number\",\n        \"std\": 11.902377714295747,\n        \"min\": -2.77,\n        \"max\": 44.11,\n        \"num_unique_values\": 4566,\n        \"samples\": [\n          5.1,\n          18.04,\n          -2.72\n        ],\n        \"semantic_type\": \"\",\n        \"description\": \"\"\n      }\n    },\n    {\n      \"column\": \"Ontario_Demand\",\n      \"properties\": {\n        \"dtype\": \"number\",\n        \"std\": 2201,\n        \"min\": 9831,\n        \"max\": 24281,\n        \"num_unique_values\": 9374,\n        \"samples\": [\n          11515,\n          20204,\n          13362\n        ],\n        \"semantic_type\": \"\",\n        \"description\": \"\"\n      }\n    },\n    {\n      \"column\": \"Temperature\",\n      \"properties\": {\n        \"dtype\": \"number\",\n        \"std\": 10.899601571682858,\n        \"min\": -26.0,\n        \"max\": 35.1,\n        \"num_unique_values\": 578,\n        \"samples\": [\n          -11.9,\n          -19.4,\n          33.6\n        ],\n        \"semantic_type\": \"\",\n        \"description\": \"\"\n      }\n    },\n    {\n      \"column\": \"Windchill_Index\",\n      \"properties\": {\n        \"dtype\": \"number\",\n        \"std\": 13.513147941422464,\n        \"min\": -39.66,\n        \"max\": 37.94,\n        \"num_unique_values\": 5341,\n        \"samples\": [\n          -9.05,\n          19.74,\n          -7.63\n        ],\n        \"semantic_type\": \"\",\n        \"description\": \"\"\n      }\n    },\n    {\n      \"column\": \"Wind_Speed\",\n      \"properties\": {\n        \"dtype\": \"number\",\n        \"std\": 9,\n        \"min\": 0,\n        \"max\": 80,\n        \"num_unique_values\": 68,\n        \"samples\": [\n          41,\n          40,\n          19\n        ],\n        \"semantic_type\": \"\",\n        \"description\": \"\"\n      }\n    },\n    {\n      \"column\": \"Humidex\",\n      \"properties\": {\n        \"dtype\": \"number\",\n        \"std\": 14.325741612216065,\n        \"min\": -31.1,\n        \"max\": 50.35,\n        \"num_unique_values\": 5860,\n        \"samples\": [\n          -10.23,\n          -16.48,\n          2.3\n        ],\n        \"semantic_type\": \"\",\n        \"description\": \"\"\n      }\n    },\n    {\n      \"column\": \"Relative_Humidity\",\n      \"properties\": {\n        \"dtype\": \"number\",\n        \"std\": 16,\n        \"min\": 13,\n        \"max\": 100,\n        \"num_unique_values\": 88,\n        \"samples\": [\n          24,\n          70,\n          58\n        ],\n        \"semantic_type\": \"\",\n        \"description\": \"\"\n      }\n    },\n    {\n      \"column\": \"Dew_Point\",\n      \"properties\": {\n        \"dtype\": \"number\",\n        \"std\": 10.269080073541392,\n        \"min\": -31.6,\n        \"max\": 25.1,\n        \"num_unique_values\": 531,\n        \"samples\": [\n          -21.9,\n          -7.4,\n          5.9\n        ],\n        \"semantic_type\": \"\",\n        \"description\": \"\"\n      }\n    },\n    {\n      \"column\": \"Pressure_Station\",\n      \"properties\": {\n        \"dtype\": \"number\",\n        \"std\": 0.7766958374115445,\n        \"min\": 96.49,\n        \"max\": 102.41,\n        \"num_unique_values\": 547,\n        \"samples\": [\n          97.71,\n          101.17,\n          100.75\n        ],\n        \"semantic_type\": \"\",\n        \"description\": \"\"\n      }\n    }\n  ]\n}"
            }
          },
          "metadata": {},
          "execution_count": 41
        }
      ]
    },
    {
      "cell_type": "code",
      "source": [
        "df.tail()"
      ],
      "metadata": {
        "colab": {
          "base_uri": "https://localhost:8080/",
          "height": 313
        },
        "id": "bci8SaL3-CK6",
        "outputId": "b285da5e-7490-49e2-ed79-5eca3e3aed6b"
      },
      "execution_count": null,
      "outputs": [
        {
          "output_type": "execute_result",
          "data": {
            "text/plain": [
              "             Date   Weekday  Hour   HOEP  Ontario_Demand  Temperature  \\\n",
              "39403  2020-12-31  Thursday    19  36.85           17384          0.2   \n",
              "39404  2020-12-31  Thursday    20  19.69           16783         -0.2   \n",
              "39405  2020-12-31  Thursday    21  20.78           16154         -3.0   \n",
              "39406  2020-12-31  Thursday    22  27.85           15744         -0.8   \n",
              "39407  2020-12-31  Thursday    23  19.68           15092         -2.1   \n",
              "\n",
              "       Windchill_Index  Wind_Speed  Humidex  Relative_Humidity  Dew_Point  \\\n",
              "39403            -4.02          13    -2.69                 74       -3.8   \n",
              "39404            -5.59          16    -3.58                 65       -6.0   \n",
              "39405            -7.44          12    -3.67                 80       -6.0   \n",
              "39406            -6.76          17    -4.11                 70       -5.6   \n",
              "39407            -6.21          11    -4.72                 73       -6.2   \n",
              "\n",
              "       Pressure_Station  \n",
              "39403            100.66  \n",
              "39404            100.76  \n",
              "39405            100.81  \n",
              "39406            100.90  \n",
              "39407            100.90  "
            ],
            "text/html": [
              "\n",
              "  <div id=\"df-67c9b393-ebb3-4d47-8699-b603e486e7b3\" class=\"colab-df-container\">\n",
              "    <div>\n",
              "<style scoped>\n",
              "    .dataframe tbody tr th:only-of-type {\n",
              "        vertical-align: middle;\n",
              "    }\n",
              "\n",
              "    .dataframe tbody tr th {\n",
              "        vertical-align: top;\n",
              "    }\n",
              "\n",
              "    .dataframe thead th {\n",
              "        text-align: right;\n",
              "    }\n",
              "</style>\n",
              "<table border=\"1\" class=\"dataframe\">\n",
              "  <thead>\n",
              "    <tr style=\"text-align: right;\">\n",
              "      <th></th>\n",
              "      <th>Date</th>\n",
              "      <th>Weekday</th>\n",
              "      <th>Hour</th>\n",
              "      <th>HOEP</th>\n",
              "      <th>Ontario_Demand</th>\n",
              "      <th>Temperature</th>\n",
              "      <th>Windchill_Index</th>\n",
              "      <th>Wind_Speed</th>\n",
              "      <th>Humidex</th>\n",
              "      <th>Relative_Humidity</th>\n",
              "      <th>Dew_Point</th>\n",
              "      <th>Pressure_Station</th>\n",
              "    </tr>\n",
              "  </thead>\n",
              "  <tbody>\n",
              "    <tr>\n",
              "      <th>39403</th>\n",
              "      <td>2020-12-31</td>\n",
              "      <td>Thursday</td>\n",
              "      <td>19</td>\n",
              "      <td>36.85</td>\n",
              "      <td>17384</td>\n",
              "      <td>0.2</td>\n",
              "      <td>-4.02</td>\n",
              "      <td>13</td>\n",
              "      <td>-2.69</td>\n",
              "      <td>74</td>\n",
              "      <td>-3.8</td>\n",
              "      <td>100.66</td>\n",
              "    </tr>\n",
              "    <tr>\n",
              "      <th>39404</th>\n",
              "      <td>2020-12-31</td>\n",
              "      <td>Thursday</td>\n",
              "      <td>20</td>\n",
              "      <td>19.69</td>\n",
              "      <td>16783</td>\n",
              "      <td>-0.2</td>\n",
              "      <td>-5.59</td>\n",
              "      <td>16</td>\n",
              "      <td>-3.58</td>\n",
              "      <td>65</td>\n",
              "      <td>-6.0</td>\n",
              "      <td>100.76</td>\n",
              "    </tr>\n",
              "    <tr>\n",
              "      <th>39405</th>\n",
              "      <td>2020-12-31</td>\n",
              "      <td>Thursday</td>\n",
              "      <td>21</td>\n",
              "      <td>20.78</td>\n",
              "      <td>16154</td>\n",
              "      <td>-3.0</td>\n",
              "      <td>-7.44</td>\n",
              "      <td>12</td>\n",
              "      <td>-3.67</td>\n",
              "      <td>80</td>\n",
              "      <td>-6.0</td>\n",
              "      <td>100.81</td>\n",
              "    </tr>\n",
              "    <tr>\n",
              "      <th>39406</th>\n",
              "      <td>2020-12-31</td>\n",
              "      <td>Thursday</td>\n",
              "      <td>22</td>\n",
              "      <td>27.85</td>\n",
              "      <td>15744</td>\n",
              "      <td>-0.8</td>\n",
              "      <td>-6.76</td>\n",
              "      <td>17</td>\n",
              "      <td>-4.11</td>\n",
              "      <td>70</td>\n",
              "      <td>-5.6</td>\n",
              "      <td>100.90</td>\n",
              "    </tr>\n",
              "    <tr>\n",
              "      <th>39407</th>\n",
              "      <td>2020-12-31</td>\n",
              "      <td>Thursday</td>\n",
              "      <td>23</td>\n",
              "      <td>19.68</td>\n",
              "      <td>15092</td>\n",
              "      <td>-2.1</td>\n",
              "      <td>-6.21</td>\n",
              "      <td>11</td>\n",
              "      <td>-4.72</td>\n",
              "      <td>73</td>\n",
              "      <td>-6.2</td>\n",
              "      <td>100.90</td>\n",
              "    </tr>\n",
              "  </tbody>\n",
              "</table>\n",
              "</div>\n",
              "    <div class=\"colab-df-buttons\">\n",
              "\n",
              "  <div class=\"colab-df-container\">\n",
              "    <button class=\"colab-df-convert\" onclick=\"convertToInteractive('df-67c9b393-ebb3-4d47-8699-b603e486e7b3')\"\n",
              "            title=\"Convert this dataframe to an interactive table.\"\n",
              "            style=\"display:none;\">\n",
              "\n",
              "  <svg xmlns=\"http://www.w3.org/2000/svg\" height=\"24px\" viewBox=\"0 -960 960 960\">\n",
              "    <path d=\"M120-120v-720h720v720H120Zm60-500h600v-160H180v160Zm220 220h160v-160H400v160Zm0 220h160v-160H400v160ZM180-400h160v-160H180v160Zm440 0h160v-160H620v160ZM180-180h160v-160H180v160Zm440 0h160v-160H620v160Z\"/>\n",
              "  </svg>\n",
              "    </button>\n",
              "\n",
              "  <style>\n",
              "    .colab-df-container {\n",
              "      display:flex;\n",
              "      gap: 12px;\n",
              "    }\n",
              "\n",
              "    .colab-df-convert {\n",
              "      background-color: #E8F0FE;\n",
              "      border: none;\n",
              "      border-radius: 50%;\n",
              "      cursor: pointer;\n",
              "      display: none;\n",
              "      fill: #1967D2;\n",
              "      height: 32px;\n",
              "      padding: 0 0 0 0;\n",
              "      width: 32px;\n",
              "    }\n",
              "\n",
              "    .colab-df-convert:hover {\n",
              "      background-color: #E2EBFA;\n",
              "      box-shadow: 0px 1px 2px rgba(60, 64, 67, 0.3), 0px 1px 3px 1px rgba(60, 64, 67, 0.15);\n",
              "      fill: #174EA6;\n",
              "    }\n",
              "\n",
              "    .colab-df-buttons div {\n",
              "      margin-bottom: 4px;\n",
              "    }\n",
              "\n",
              "    [theme=dark] .colab-df-convert {\n",
              "      background-color: #3B4455;\n",
              "      fill: #D2E3FC;\n",
              "    }\n",
              "\n",
              "    [theme=dark] .colab-df-convert:hover {\n",
              "      background-color: #434B5C;\n",
              "      box-shadow: 0px 1px 3px 1px rgba(0, 0, 0, 0.15);\n",
              "      filter: drop-shadow(0px 1px 2px rgba(0, 0, 0, 0.3));\n",
              "      fill: #FFFFFF;\n",
              "    }\n",
              "  </style>\n",
              "\n",
              "    <script>\n",
              "      const buttonEl =\n",
              "        document.querySelector('#df-67c9b393-ebb3-4d47-8699-b603e486e7b3 button.colab-df-convert');\n",
              "      buttonEl.style.display =\n",
              "        google.colab.kernel.accessAllowed ? 'block' : 'none';\n",
              "\n",
              "      async function convertToInteractive(key) {\n",
              "        const element = document.querySelector('#df-67c9b393-ebb3-4d47-8699-b603e486e7b3');\n",
              "        const dataTable =\n",
              "          await google.colab.kernel.invokeFunction('convertToInteractive',\n",
              "                                                    [key], {});\n",
              "        if (!dataTable) return;\n",
              "\n",
              "        const docLinkHtml = 'Like what you see? Visit the ' +\n",
              "          '<a target=\"_blank\" href=https://colab.research.google.com/notebooks/data_table.ipynb>data table notebook</a>'\n",
              "          + ' to learn more about interactive tables.';\n",
              "        element.innerHTML = '';\n",
              "        dataTable['output_type'] = 'display_data';\n",
              "        await google.colab.output.renderOutput(dataTable, element);\n",
              "        const docLink = document.createElement('div');\n",
              "        docLink.innerHTML = docLinkHtml;\n",
              "        element.appendChild(docLink);\n",
              "      }\n",
              "    </script>\n",
              "  </div>\n",
              "\n",
              "\n",
              "<div id=\"df-85df19d8-c46b-4b60-bdfd-ac95675ddbfc\">\n",
              "  <button class=\"colab-df-quickchart\" onclick=\"quickchart('df-85df19d8-c46b-4b60-bdfd-ac95675ddbfc')\"\n",
              "            title=\"Suggest charts\"\n",
              "            style=\"display:none;\">\n",
              "\n",
              "<svg xmlns=\"http://www.w3.org/2000/svg\" height=\"24px\"viewBox=\"0 0 24 24\"\n",
              "     width=\"24px\">\n",
              "    <g>\n",
              "        <path d=\"M19 3H5c-1.1 0-2 .9-2 2v14c0 1.1.9 2 2 2h14c1.1 0 2-.9 2-2V5c0-1.1-.9-2-2-2zM9 17H7v-7h2v7zm4 0h-2V7h2v10zm4 0h-2v-4h2v4z\"/>\n",
              "    </g>\n",
              "</svg>\n",
              "  </button>\n",
              "\n",
              "<style>\n",
              "  .colab-df-quickchart {\n",
              "      --bg-color: #E8F0FE;\n",
              "      --fill-color: #1967D2;\n",
              "      --hover-bg-color: #E2EBFA;\n",
              "      --hover-fill-color: #174EA6;\n",
              "      --disabled-fill-color: #AAA;\n",
              "      --disabled-bg-color: #DDD;\n",
              "  }\n",
              "\n",
              "  [theme=dark] .colab-df-quickchart {\n",
              "      --bg-color: #3B4455;\n",
              "      --fill-color: #D2E3FC;\n",
              "      --hover-bg-color: #434B5C;\n",
              "      --hover-fill-color: #FFFFFF;\n",
              "      --disabled-bg-color: #3B4455;\n",
              "      --disabled-fill-color: #666;\n",
              "  }\n",
              "\n",
              "  .colab-df-quickchart {\n",
              "    background-color: var(--bg-color);\n",
              "    border: none;\n",
              "    border-radius: 50%;\n",
              "    cursor: pointer;\n",
              "    display: none;\n",
              "    fill: var(--fill-color);\n",
              "    height: 32px;\n",
              "    padding: 0;\n",
              "    width: 32px;\n",
              "  }\n",
              "\n",
              "  .colab-df-quickchart:hover {\n",
              "    background-color: var(--hover-bg-color);\n",
              "    box-shadow: 0 1px 2px rgba(60, 64, 67, 0.3), 0 1px 3px 1px rgba(60, 64, 67, 0.15);\n",
              "    fill: var(--button-hover-fill-color);\n",
              "  }\n",
              "\n",
              "  .colab-df-quickchart-complete:disabled,\n",
              "  .colab-df-quickchart-complete:disabled:hover {\n",
              "    background-color: var(--disabled-bg-color);\n",
              "    fill: var(--disabled-fill-color);\n",
              "    box-shadow: none;\n",
              "  }\n",
              "\n",
              "  .colab-df-spinner {\n",
              "    border: 2px solid var(--fill-color);\n",
              "    border-color: transparent;\n",
              "    border-bottom-color: var(--fill-color);\n",
              "    animation:\n",
              "      spin 1s steps(1) infinite;\n",
              "  }\n",
              "\n",
              "  @keyframes spin {\n",
              "    0% {\n",
              "      border-color: transparent;\n",
              "      border-bottom-color: var(--fill-color);\n",
              "      border-left-color: var(--fill-color);\n",
              "    }\n",
              "    20% {\n",
              "      border-color: transparent;\n",
              "      border-left-color: var(--fill-color);\n",
              "      border-top-color: var(--fill-color);\n",
              "    }\n",
              "    30% {\n",
              "      border-color: transparent;\n",
              "      border-left-color: var(--fill-color);\n",
              "      border-top-color: var(--fill-color);\n",
              "      border-right-color: var(--fill-color);\n",
              "    }\n",
              "    40% {\n",
              "      border-color: transparent;\n",
              "      border-right-color: var(--fill-color);\n",
              "      border-top-color: var(--fill-color);\n",
              "    }\n",
              "    60% {\n",
              "      border-color: transparent;\n",
              "      border-right-color: var(--fill-color);\n",
              "    }\n",
              "    80% {\n",
              "      border-color: transparent;\n",
              "      border-right-color: var(--fill-color);\n",
              "      border-bottom-color: var(--fill-color);\n",
              "    }\n",
              "    90% {\n",
              "      border-color: transparent;\n",
              "      border-bottom-color: var(--fill-color);\n",
              "    }\n",
              "  }\n",
              "</style>\n",
              "\n",
              "  <script>\n",
              "    async function quickchart(key) {\n",
              "      const quickchartButtonEl =\n",
              "        document.querySelector('#' + key + ' button');\n",
              "      quickchartButtonEl.disabled = true;  // To prevent multiple clicks.\n",
              "      quickchartButtonEl.classList.add('colab-df-spinner');\n",
              "      try {\n",
              "        const charts = await google.colab.kernel.invokeFunction(\n",
              "            'suggestCharts', [key], {});\n",
              "      } catch (error) {\n",
              "        console.error('Error during call to suggestCharts:', error);\n",
              "      }\n",
              "      quickchartButtonEl.classList.remove('colab-df-spinner');\n",
              "      quickchartButtonEl.classList.add('colab-df-quickchart-complete');\n",
              "    }\n",
              "    (() => {\n",
              "      let quickchartButtonEl =\n",
              "        document.querySelector('#df-85df19d8-c46b-4b60-bdfd-ac95675ddbfc button');\n",
              "      quickchartButtonEl.style.display =\n",
              "        google.colab.kernel.accessAllowed ? 'block' : 'none';\n",
              "    })();\n",
              "  </script>\n",
              "</div>\n",
              "\n",
              "    </div>\n",
              "  </div>\n"
            ],
            "application/vnd.google.colaboratory.intrinsic+json": {
              "type": "dataframe",
              "repr_error": "0"
            }
          },
          "metadata": {},
          "execution_count": 42
        }
      ]
    },
    {
      "cell_type": "code",
      "source": [
        "df.shape"
      ],
      "metadata": {
        "colab": {
          "base_uri": "https://localhost:8080/"
        },
        "id": "-MkSFVIC-JJ_",
        "outputId": "d55dca9f-1ee4-4241-9ccc-dbc72ca644ab"
      },
      "execution_count": null,
      "outputs": [
        {
          "output_type": "execute_result",
          "data": {
            "text/plain": [
              "(39408, 12)"
            ]
          },
          "metadata": {},
          "execution_count": 43
        }
      ]
    },
    {
      "cell_type": "code",
      "source": [
        "df.info()"
      ],
      "metadata": {
        "colab": {
          "base_uri": "https://localhost:8080/"
        },
        "id": "hN15cBDG-Nlq",
        "outputId": "d23371a8-7599-451c-bcd8-522c9acbebc3"
      },
      "execution_count": null,
      "outputs": [
        {
          "output_type": "stream",
          "name": "stdout",
          "text": [
            "<class 'pandas.core.frame.DataFrame'>\n",
            "RangeIndex: 39408 entries, 0 to 39407\n",
            "Data columns (total 12 columns):\n",
            " #   Column             Non-Null Count  Dtype  \n",
            "---  ------             --------------  -----  \n",
            " 0   Date               39408 non-null  object \n",
            " 1   Weekday            39408 non-null  object \n",
            " 2   Hour               39408 non-null  int64  \n",
            " 3   HOEP               39408 non-null  float64\n",
            " 4   Ontario_Demand     39408 non-null  int64  \n",
            " 5   Temperature        39408 non-null  float64\n",
            " 6   Windchill_Index    39408 non-null  float64\n",
            " 7   Wind_Speed         39408 non-null  int64  \n",
            " 8   Humidex            39408 non-null  float64\n",
            " 9   Relative_Humidity  39408 non-null  int64  \n",
            " 10  Dew_Point          39408 non-null  float64\n",
            " 11  Pressure_Station   39408 non-null  float64\n",
            "dtypes: float64(6), int64(4), object(2)\n",
            "memory usage: 3.6+ MB\n"
          ]
        }
      ]
    },
    {
      "cell_type": "code",
      "source": [
        "df.describe()"
      ],
      "metadata": {
        "colab": {
          "base_uri": "https://localhost:8080/",
          "height": 320
        },
        "id": "uD_D3m2f-x-2",
        "outputId": "d20efe11-7fa0-4047-98cb-5be37e0df5c8"
      },
      "execution_count": null,
      "outputs": [
        {
          "output_type": "execute_result",
          "data": {
            "text/plain": [
              "               Hour          HOEP  Ontario_Demand   Temperature  \\\n",
              "count  39408.000000  39408.000000    39408.000000  39408.000000   \n",
              "mean      11.625076     13.923340    15397.914205      9.421272   \n",
              "std        6.945136     11.902378     2201.241563     10.899602   \n",
              "min        0.000000     -2.770000     9831.000000    -26.000000   \n",
              "25%        6.000000      3.300000    13775.000000      0.800000   \n",
              "50%       12.000000     12.950000    15272.000000      8.600000   \n",
              "75%       18.000000     22.510000    16881.000000     19.000000   \n",
              "max       23.000000     44.110000    24281.000000     35.100000   \n",
              "\n",
              "       Windchill_Index    Wind_Speed       Humidex  Relative_Humidity  \\\n",
              "count     39408.000000  39408.000000  39408.000000       39408.000000   \n",
              "mean          6.565978     16.854243      9.859521          68.028598   \n",
              "std          13.513148      9.220125     14.325742          16.773789   \n",
              "min         -39.660000      0.000000    -31.100000          13.000000   \n",
              "25%          -3.950000     10.000000     -1.680000          57.000000   \n",
              "50%           5.670000     16.000000      7.860000          69.000000   \n",
              "75%          18.580000     22.000000     22.350000          81.000000   \n",
              "max          37.940000     80.000000     50.350000         100.000000   \n",
              "\n",
              "          Dew_Point  Pressure_Station  \n",
              "count  39408.000000      39408.000000  \n",
              "mean       3.330397         99.533605  \n",
              "std       10.269080          0.776696  \n",
              "min      -31.600000         96.490000  \n",
              "25%       -4.400000         99.050000  \n",
              "50%        3.000000         99.540000  \n",
              "75%       12.100000        100.040000  \n",
              "max       25.100000        102.410000  "
            ],
            "text/html": [
              "\n",
              "  <div id=\"df-20cc956c-3813-4af0-9275-83b0af85dacb\" class=\"colab-df-container\">\n",
              "    <div>\n",
              "<style scoped>\n",
              "    .dataframe tbody tr th:only-of-type {\n",
              "        vertical-align: middle;\n",
              "    }\n",
              "\n",
              "    .dataframe tbody tr th {\n",
              "        vertical-align: top;\n",
              "    }\n",
              "\n",
              "    .dataframe thead th {\n",
              "        text-align: right;\n",
              "    }\n",
              "</style>\n",
              "<table border=\"1\" class=\"dataframe\">\n",
              "  <thead>\n",
              "    <tr style=\"text-align: right;\">\n",
              "      <th></th>\n",
              "      <th>Hour</th>\n",
              "      <th>HOEP</th>\n",
              "      <th>Ontario_Demand</th>\n",
              "      <th>Temperature</th>\n",
              "      <th>Windchill_Index</th>\n",
              "      <th>Wind_Speed</th>\n",
              "      <th>Humidex</th>\n",
              "      <th>Relative_Humidity</th>\n",
              "      <th>Dew_Point</th>\n",
              "      <th>Pressure_Station</th>\n",
              "    </tr>\n",
              "  </thead>\n",
              "  <tbody>\n",
              "    <tr>\n",
              "      <th>count</th>\n",
              "      <td>39408.000000</td>\n",
              "      <td>39408.000000</td>\n",
              "      <td>39408.000000</td>\n",
              "      <td>39408.000000</td>\n",
              "      <td>39408.000000</td>\n",
              "      <td>39408.000000</td>\n",
              "      <td>39408.000000</td>\n",
              "      <td>39408.000000</td>\n",
              "      <td>39408.000000</td>\n",
              "      <td>39408.000000</td>\n",
              "    </tr>\n",
              "    <tr>\n",
              "      <th>mean</th>\n",
              "      <td>11.625076</td>\n",
              "      <td>13.923340</td>\n",
              "      <td>15397.914205</td>\n",
              "      <td>9.421272</td>\n",
              "      <td>6.565978</td>\n",
              "      <td>16.854243</td>\n",
              "      <td>9.859521</td>\n",
              "      <td>68.028598</td>\n",
              "      <td>3.330397</td>\n",
              "      <td>99.533605</td>\n",
              "    </tr>\n",
              "    <tr>\n",
              "      <th>std</th>\n",
              "      <td>6.945136</td>\n",
              "      <td>11.902378</td>\n",
              "      <td>2201.241563</td>\n",
              "      <td>10.899602</td>\n",
              "      <td>13.513148</td>\n",
              "      <td>9.220125</td>\n",
              "      <td>14.325742</td>\n",
              "      <td>16.773789</td>\n",
              "      <td>10.269080</td>\n",
              "      <td>0.776696</td>\n",
              "    </tr>\n",
              "    <tr>\n",
              "      <th>min</th>\n",
              "      <td>0.000000</td>\n",
              "      <td>-2.770000</td>\n",
              "      <td>9831.000000</td>\n",
              "      <td>-26.000000</td>\n",
              "      <td>-39.660000</td>\n",
              "      <td>0.000000</td>\n",
              "      <td>-31.100000</td>\n",
              "      <td>13.000000</td>\n",
              "      <td>-31.600000</td>\n",
              "      <td>96.490000</td>\n",
              "    </tr>\n",
              "    <tr>\n",
              "      <th>25%</th>\n",
              "      <td>6.000000</td>\n",
              "      <td>3.300000</td>\n",
              "      <td>13775.000000</td>\n",
              "      <td>0.800000</td>\n",
              "      <td>-3.950000</td>\n",
              "      <td>10.000000</td>\n",
              "      <td>-1.680000</td>\n",
              "      <td>57.000000</td>\n",
              "      <td>-4.400000</td>\n",
              "      <td>99.050000</td>\n",
              "    </tr>\n",
              "    <tr>\n",
              "      <th>50%</th>\n",
              "      <td>12.000000</td>\n",
              "      <td>12.950000</td>\n",
              "      <td>15272.000000</td>\n",
              "      <td>8.600000</td>\n",
              "      <td>5.670000</td>\n",
              "      <td>16.000000</td>\n",
              "      <td>7.860000</td>\n",
              "      <td>69.000000</td>\n",
              "      <td>3.000000</td>\n",
              "      <td>99.540000</td>\n",
              "    </tr>\n",
              "    <tr>\n",
              "      <th>75%</th>\n",
              "      <td>18.000000</td>\n",
              "      <td>22.510000</td>\n",
              "      <td>16881.000000</td>\n",
              "      <td>19.000000</td>\n",
              "      <td>18.580000</td>\n",
              "      <td>22.000000</td>\n",
              "      <td>22.350000</td>\n",
              "      <td>81.000000</td>\n",
              "      <td>12.100000</td>\n",
              "      <td>100.040000</td>\n",
              "    </tr>\n",
              "    <tr>\n",
              "      <th>max</th>\n",
              "      <td>23.000000</td>\n",
              "      <td>44.110000</td>\n",
              "      <td>24281.000000</td>\n",
              "      <td>35.100000</td>\n",
              "      <td>37.940000</td>\n",
              "      <td>80.000000</td>\n",
              "      <td>50.350000</td>\n",
              "      <td>100.000000</td>\n",
              "      <td>25.100000</td>\n",
              "      <td>102.410000</td>\n",
              "    </tr>\n",
              "  </tbody>\n",
              "</table>\n",
              "</div>\n",
              "    <div class=\"colab-df-buttons\">\n",
              "\n",
              "  <div class=\"colab-df-container\">\n",
              "    <button class=\"colab-df-convert\" onclick=\"convertToInteractive('df-20cc956c-3813-4af0-9275-83b0af85dacb')\"\n",
              "            title=\"Convert this dataframe to an interactive table.\"\n",
              "            style=\"display:none;\">\n",
              "\n",
              "  <svg xmlns=\"http://www.w3.org/2000/svg\" height=\"24px\" viewBox=\"0 -960 960 960\">\n",
              "    <path d=\"M120-120v-720h720v720H120Zm60-500h600v-160H180v160Zm220 220h160v-160H400v160Zm0 220h160v-160H400v160ZM180-400h160v-160H180v160Zm440 0h160v-160H620v160ZM180-180h160v-160H180v160Zm440 0h160v-160H620v160Z\"/>\n",
              "  </svg>\n",
              "    </button>\n",
              "\n",
              "  <style>\n",
              "    .colab-df-container {\n",
              "      display:flex;\n",
              "      gap: 12px;\n",
              "    }\n",
              "\n",
              "    .colab-df-convert {\n",
              "      background-color: #E8F0FE;\n",
              "      border: none;\n",
              "      border-radius: 50%;\n",
              "      cursor: pointer;\n",
              "      display: none;\n",
              "      fill: #1967D2;\n",
              "      height: 32px;\n",
              "      padding: 0 0 0 0;\n",
              "      width: 32px;\n",
              "    }\n",
              "\n",
              "    .colab-df-convert:hover {\n",
              "      background-color: #E2EBFA;\n",
              "      box-shadow: 0px 1px 2px rgba(60, 64, 67, 0.3), 0px 1px 3px 1px rgba(60, 64, 67, 0.15);\n",
              "      fill: #174EA6;\n",
              "    }\n",
              "\n",
              "    .colab-df-buttons div {\n",
              "      margin-bottom: 4px;\n",
              "    }\n",
              "\n",
              "    [theme=dark] .colab-df-convert {\n",
              "      background-color: #3B4455;\n",
              "      fill: #D2E3FC;\n",
              "    }\n",
              "\n",
              "    [theme=dark] .colab-df-convert:hover {\n",
              "      background-color: #434B5C;\n",
              "      box-shadow: 0px 1px 3px 1px rgba(0, 0, 0, 0.15);\n",
              "      filter: drop-shadow(0px 1px 2px rgba(0, 0, 0, 0.3));\n",
              "      fill: #FFFFFF;\n",
              "    }\n",
              "  </style>\n",
              "\n",
              "    <script>\n",
              "      const buttonEl =\n",
              "        document.querySelector('#df-20cc956c-3813-4af0-9275-83b0af85dacb button.colab-df-convert');\n",
              "      buttonEl.style.display =\n",
              "        google.colab.kernel.accessAllowed ? 'block' : 'none';\n",
              "\n",
              "      async function convertToInteractive(key) {\n",
              "        const element = document.querySelector('#df-20cc956c-3813-4af0-9275-83b0af85dacb');\n",
              "        const dataTable =\n",
              "          await google.colab.kernel.invokeFunction('convertToInteractive',\n",
              "                                                    [key], {});\n",
              "        if (!dataTable) return;\n",
              "\n",
              "        const docLinkHtml = 'Like what you see? Visit the ' +\n",
              "          '<a target=\"_blank\" href=https://colab.research.google.com/notebooks/data_table.ipynb>data table notebook</a>'\n",
              "          + ' to learn more about interactive tables.';\n",
              "        element.innerHTML = '';\n",
              "        dataTable['output_type'] = 'display_data';\n",
              "        await google.colab.output.renderOutput(dataTable, element);\n",
              "        const docLink = document.createElement('div');\n",
              "        docLink.innerHTML = docLinkHtml;\n",
              "        element.appendChild(docLink);\n",
              "      }\n",
              "    </script>\n",
              "  </div>\n",
              "\n",
              "\n",
              "<div id=\"df-9c6dec65-5ee0-4592-80fc-03d21c214398\">\n",
              "  <button class=\"colab-df-quickchart\" onclick=\"quickchart('df-9c6dec65-5ee0-4592-80fc-03d21c214398')\"\n",
              "            title=\"Suggest charts\"\n",
              "            style=\"display:none;\">\n",
              "\n",
              "<svg xmlns=\"http://www.w3.org/2000/svg\" height=\"24px\"viewBox=\"0 0 24 24\"\n",
              "     width=\"24px\">\n",
              "    <g>\n",
              "        <path d=\"M19 3H5c-1.1 0-2 .9-2 2v14c0 1.1.9 2 2 2h14c1.1 0 2-.9 2-2V5c0-1.1-.9-2-2-2zM9 17H7v-7h2v7zm4 0h-2V7h2v10zm4 0h-2v-4h2v4z\"/>\n",
              "    </g>\n",
              "</svg>\n",
              "  </button>\n",
              "\n",
              "<style>\n",
              "  .colab-df-quickchart {\n",
              "      --bg-color: #E8F0FE;\n",
              "      --fill-color: #1967D2;\n",
              "      --hover-bg-color: #E2EBFA;\n",
              "      --hover-fill-color: #174EA6;\n",
              "      --disabled-fill-color: #AAA;\n",
              "      --disabled-bg-color: #DDD;\n",
              "  }\n",
              "\n",
              "  [theme=dark] .colab-df-quickchart {\n",
              "      --bg-color: #3B4455;\n",
              "      --fill-color: #D2E3FC;\n",
              "      --hover-bg-color: #434B5C;\n",
              "      --hover-fill-color: #FFFFFF;\n",
              "      --disabled-bg-color: #3B4455;\n",
              "      --disabled-fill-color: #666;\n",
              "  }\n",
              "\n",
              "  .colab-df-quickchart {\n",
              "    background-color: var(--bg-color);\n",
              "    border: none;\n",
              "    border-radius: 50%;\n",
              "    cursor: pointer;\n",
              "    display: none;\n",
              "    fill: var(--fill-color);\n",
              "    height: 32px;\n",
              "    padding: 0;\n",
              "    width: 32px;\n",
              "  }\n",
              "\n",
              "  .colab-df-quickchart:hover {\n",
              "    background-color: var(--hover-bg-color);\n",
              "    box-shadow: 0 1px 2px rgba(60, 64, 67, 0.3), 0 1px 3px 1px rgba(60, 64, 67, 0.15);\n",
              "    fill: var(--button-hover-fill-color);\n",
              "  }\n",
              "\n",
              "  .colab-df-quickchart-complete:disabled,\n",
              "  .colab-df-quickchart-complete:disabled:hover {\n",
              "    background-color: var(--disabled-bg-color);\n",
              "    fill: var(--disabled-fill-color);\n",
              "    box-shadow: none;\n",
              "  }\n",
              "\n",
              "  .colab-df-spinner {\n",
              "    border: 2px solid var(--fill-color);\n",
              "    border-color: transparent;\n",
              "    border-bottom-color: var(--fill-color);\n",
              "    animation:\n",
              "      spin 1s steps(1) infinite;\n",
              "  }\n",
              "\n",
              "  @keyframes spin {\n",
              "    0% {\n",
              "      border-color: transparent;\n",
              "      border-bottom-color: var(--fill-color);\n",
              "      border-left-color: var(--fill-color);\n",
              "    }\n",
              "    20% {\n",
              "      border-color: transparent;\n",
              "      border-left-color: var(--fill-color);\n",
              "      border-top-color: var(--fill-color);\n",
              "    }\n",
              "    30% {\n",
              "      border-color: transparent;\n",
              "      border-left-color: var(--fill-color);\n",
              "      border-top-color: var(--fill-color);\n",
              "      border-right-color: var(--fill-color);\n",
              "    }\n",
              "    40% {\n",
              "      border-color: transparent;\n",
              "      border-right-color: var(--fill-color);\n",
              "      border-top-color: var(--fill-color);\n",
              "    }\n",
              "    60% {\n",
              "      border-color: transparent;\n",
              "      border-right-color: var(--fill-color);\n",
              "    }\n",
              "    80% {\n",
              "      border-color: transparent;\n",
              "      border-right-color: var(--fill-color);\n",
              "      border-bottom-color: var(--fill-color);\n",
              "    }\n",
              "    90% {\n",
              "      border-color: transparent;\n",
              "      border-bottom-color: var(--fill-color);\n",
              "    }\n",
              "  }\n",
              "</style>\n",
              "\n",
              "  <script>\n",
              "    async function quickchart(key) {\n",
              "      const quickchartButtonEl =\n",
              "        document.querySelector('#' + key + ' button');\n",
              "      quickchartButtonEl.disabled = true;  // To prevent multiple clicks.\n",
              "      quickchartButtonEl.classList.add('colab-df-spinner');\n",
              "      try {\n",
              "        const charts = await google.colab.kernel.invokeFunction(\n",
              "            'suggestCharts', [key], {});\n",
              "      } catch (error) {\n",
              "        console.error('Error during call to suggestCharts:', error);\n",
              "      }\n",
              "      quickchartButtonEl.classList.remove('colab-df-spinner');\n",
              "      quickchartButtonEl.classList.add('colab-df-quickchart-complete');\n",
              "    }\n",
              "    (() => {\n",
              "      let quickchartButtonEl =\n",
              "        document.querySelector('#df-9c6dec65-5ee0-4592-80fc-03d21c214398 button');\n",
              "      quickchartButtonEl.style.display =\n",
              "        google.colab.kernel.accessAllowed ? 'block' : 'none';\n",
              "    })();\n",
              "  </script>\n",
              "</div>\n",
              "\n",
              "    </div>\n",
              "  </div>\n"
            ],
            "application/vnd.google.colaboratory.intrinsic+json": {
              "type": "dataframe",
              "summary": "{\n  \"name\": \"df\",\n  \"rows\": 8,\n  \"fields\": [\n    {\n      \"column\": \"Hour\",\n      \"properties\": {\n        \"dtype\": \"number\",\n        \"std\": 13928.915958747022,\n        \"min\": 0.0,\n        \"max\": 39408.0,\n        \"num_unique_values\": 8,\n        \"samples\": [\n          11.625076126674786,\n          12.0,\n          39408.0\n        ],\n        \"semantic_type\": \"\",\n        \"description\": \"\"\n      }\n    },\n    {\n      \"column\": \"HOEP\",\n      \"properties\": {\n        \"dtype\": \"number\",\n        \"std\": 13927.488992654784,\n        \"min\": -2.77,\n        \"max\": 39408.0,\n        \"num_unique_values\": 8,\n        \"samples\": [\n          13.9233396772229,\n          12.95,\n          39408.0\n        ],\n        \"semantic_type\": \"\",\n        \"description\": \"\"\n      }\n    },\n    {\n      \"column\": \"Ontario_Demand\",\n      \"properties\": {\n        \"dtype\": \"number\",\n        \"std\": 10963.312972148546,\n        \"min\": 2201.2415627697665,\n        \"max\": 39408.0,\n        \"num_unique_values\": 8,\n        \"samples\": [\n          15397.914205237515,\n          15272.0,\n          39408.0\n        ],\n        \"semantic_type\": \"\",\n        \"description\": \"\"\n      }\n    },\n    {\n      \"column\": \"Temperature\",\n      \"properties\": {\n        \"dtype\": \"number\",\n        \"std\": 13929.922253989382,\n        \"min\": -26.0,\n        \"max\": 39408.0,\n        \"num_unique_values\": 8,\n        \"samples\": [\n          9.42127233049127,\n          8.6,\n          39408.0\n        ],\n        \"semantic_type\": \"\",\n        \"description\": \"\"\n      }\n    },\n    {\n      \"column\": \"Windchill_Index\",\n      \"properties\": {\n        \"dtype\": \"number\",\n        \"std\": 13930.896958686139,\n        \"min\": -39.66,\n        \"max\": 39408.0,\n        \"num_unique_values\": 8,\n        \"samples\": [\n          6.565978481526594,\n          5.67,\n          39408.0\n        ],\n        \"semantic_type\": \"\",\n        \"description\": \"\"\n      }\n    },\n    {\n      \"column\": \"Wind_Speed\",\n      \"properties\": {\n        \"dtype\": \"number\",\n        \"std\": 13925.071720984663,\n        \"min\": 0.0,\n        \"max\": 39408.0,\n        \"num_unique_values\": 8,\n        \"samples\": [\n          16.854242793341452,\n          16.0,\n          39408.0\n        ],\n        \"semantic_type\": \"\",\n        \"description\": \"\"\n      }\n    },\n    {\n      \"column\": \"Humidex\",\n      \"properties\": {\n        \"dtype\": \"number\",\n        \"std\": 13929.215831431871,\n        \"min\": -31.1,\n        \"max\": 39408.0,\n        \"num_unique_values\": 8,\n        \"samples\": [\n          9.85952116321559,\n          7.86,\n          39408.0\n        ],\n        \"semantic_type\": \"\",\n        \"description\": \"\"\n      }\n    },\n    {\n      \"column\": \"Relative_Humidity\",\n      \"properties\": {\n        \"dtype\": \"number\",\n        \"std\": 13912.418445476404,\n        \"min\": 13.0,\n        \"max\": 39408.0,\n        \"num_unique_values\": 8,\n        \"samples\": [\n          68.0285982541616,\n          69.0,\n          39408.0\n        ],\n        \"semantic_type\": \"\",\n        \"description\": \"\"\n      }\n    },\n    {\n      \"column\": \"Dew_Point\",\n      \"properties\": {\n        \"dtype\": \"number\",\n        \"std\": 13931.942618268038,\n        \"min\": -31.6,\n        \"max\": 39408.0,\n        \"num_unique_values\": 8,\n        \"samples\": [\n          3.330397381242387,\n          3.0,\n          39408.0\n        ],\n        \"semantic_type\": \"\",\n        \"description\": \"\"\n      }\n    },\n    {\n      \"column\": \"Pressure_Station\",\n      \"properties\": {\n        \"dtype\": \"number\",\n        \"std\": 13902.67954396418,\n        \"min\": 0.7766958374115445,\n        \"max\": 39408.0,\n        \"num_unique_values\": 8,\n        \"samples\": [\n          99.53360485180673,\n          99.54,\n          39408.0\n        ],\n        \"semantic_type\": \"\",\n        \"description\": \"\"\n      }\n    }\n  ]\n}"
            }
          },
          "metadata": {},
          "execution_count": 45
        }
      ]
    },
    {
      "cell_type": "code",
      "source": [
        "# Convert 'Date' to datetime\n",
        "df['Date'] = pd.to_datetime(df['Date'])"
      ],
      "metadata": {
        "id": "Dc1PuejM-_TO"
      },
      "execution_count": null,
      "outputs": []
    },
    {
      "cell_type": "code",
      "source": [
        "# Extract time-based features\n",
        "df['Hour'] = df['Date'].dt.hour\n",
        "df['Day'] = df['Date'].dt.day\n",
        "df['Month'] = df['Date'].dt.month\n",
        "df['Weekday'] = df['Date'].dt.weekday"
      ],
      "metadata": {
        "id": "WzzbbSh-AHvC"
      },
      "execution_count": null,
      "outputs": []
    },
    {
      "cell_type": "code",
      "source": [
        "# Drop the original 'Date' column\n",
        "df.drop(columns=['Date'], inplace=True)"
      ],
      "metadata": {
        "id": "Uxtd-fxyAO3_"
      },
      "execution_count": null,
      "outputs": []
    },
    {
      "cell_type": "code",
      "source": [
        "# Feature scaling for relevant columns\n",
        "scaler = StandardScaler()\n",
        "scaled_features = ['Temperature', 'Windchill_Index', 'Wind_Speed', 'Humidex', 'Relative_Humidity', 'Dew_Point', 'Pressure_Station']\n",
        "df[scaled_features] = scaler.fit_transform(df[scaled_features])"
      ],
      "metadata": {
        "id": "jb-f3XuMASIy"
      },
      "execution_count": null,
      "outputs": []
    },
    {
      "cell_type": "code",
      "source": [
        "# Create lag features for past demand\n",
        "for lag in range(1, 25):\n",
        "    df[f'Ontario_Demand_lag_{lag}'] = df['Ontario_Demand'].shift(lag)"
      ],
      "metadata": {
        "id": "m74fGPR_AV4R"
      },
      "execution_count": null,
      "outputs": []
    },
    {
      "cell_type": "code",
      "source": [
        "# Drop rows with NaN values created by lagging\n",
        "df.dropna(inplace=True)"
      ],
      "metadata": {
        "id": "_ckjV5kuAZ9e"
      },
      "execution_count": null,
      "outputs": []
    },
    {
      "cell_type": "code",
      "source": [
        "# Define features and target variable\n",
        "features = [col for col in df.columns if col not in ['Ontario_Demand']]\n",
        "target = 'Ontario_Demand'"
      ],
      "metadata": {
        "id": "l19LFVbEAddS"
      },
      "execution_count": null,
      "outputs": []
    },
    {
      "cell_type": "code",
      "source": [
        "# Split the data\n",
        "train_size = int(len(df) * 0.8)\n",
        "train_df = df[:train_size]\n",
        "test_df = df[train_size:]\n",
        "\n",
        "X_train, y_train = train_df[features], train_df[target]\n",
        "X_test, y_test = test_df[features], test_df[target]"
      ],
      "metadata": {
        "id": "VFMOvau0AgIo"
      },
      "execution_count": null,
      "outputs": []
    },
    {
      "cell_type": "code",
      "source": [
        "model = RandomForestRegressor(n_estimators=100, random_state=42)\n",
        "model.fit(X_train, y_train)\n"
      ],
      "metadata": {
        "colab": {
          "base_uri": "https://localhost:8080/",
          "height": 75
        },
        "id": "h4qY-ilEAktO",
        "outputId": "afce1148-9240-40d8-eef0-be3344f3f524"
      },
      "execution_count": null,
      "outputs": [
        {
          "output_type": "execute_result",
          "data": {
            "text/plain": [
              "RandomForestRegressor(random_state=42)"
            ],
            "text/html": [
              "<style>#sk-container-id-2 {color: black;background-color: white;}#sk-container-id-2 pre{padding: 0;}#sk-container-id-2 div.sk-toggleable {background-color: white;}#sk-container-id-2 label.sk-toggleable__label {cursor: pointer;display: block;width: 100%;margin-bottom: 0;padding: 0.3em;box-sizing: border-box;text-align: center;}#sk-container-id-2 label.sk-toggleable__label-arrow:before {content: \"▸\";float: left;margin-right: 0.25em;color: #696969;}#sk-container-id-2 label.sk-toggleable__label-arrow:hover:before {color: black;}#sk-container-id-2 div.sk-estimator:hover label.sk-toggleable__label-arrow:before {color: black;}#sk-container-id-2 div.sk-toggleable__content {max-height: 0;max-width: 0;overflow: hidden;text-align: left;background-color: #f0f8ff;}#sk-container-id-2 div.sk-toggleable__content pre {margin: 0.2em;color: black;border-radius: 0.25em;background-color: #f0f8ff;}#sk-container-id-2 input.sk-toggleable__control:checked~div.sk-toggleable__content {max-height: 200px;max-width: 100%;overflow: auto;}#sk-container-id-2 input.sk-toggleable__control:checked~label.sk-toggleable__label-arrow:before {content: \"▾\";}#sk-container-id-2 div.sk-estimator input.sk-toggleable__control:checked~label.sk-toggleable__label {background-color: #d4ebff;}#sk-container-id-2 div.sk-label input.sk-toggleable__control:checked~label.sk-toggleable__label {background-color: #d4ebff;}#sk-container-id-2 input.sk-hidden--visually {border: 0;clip: rect(1px 1px 1px 1px);clip: rect(1px, 1px, 1px, 1px);height: 1px;margin: -1px;overflow: hidden;padding: 0;position: absolute;width: 1px;}#sk-container-id-2 div.sk-estimator {font-family: monospace;background-color: #f0f8ff;border: 1px dotted black;border-radius: 0.25em;box-sizing: border-box;margin-bottom: 0.5em;}#sk-container-id-2 div.sk-estimator:hover {background-color: #d4ebff;}#sk-container-id-2 div.sk-parallel-item::after {content: \"\";width: 100%;border-bottom: 1px solid gray;flex-grow: 1;}#sk-container-id-2 div.sk-label:hover label.sk-toggleable__label {background-color: #d4ebff;}#sk-container-id-2 div.sk-serial::before {content: \"\";position: absolute;border-left: 1px solid gray;box-sizing: border-box;top: 0;bottom: 0;left: 50%;z-index: 0;}#sk-container-id-2 div.sk-serial {display: flex;flex-direction: column;align-items: center;background-color: white;padding-right: 0.2em;padding-left: 0.2em;position: relative;}#sk-container-id-2 div.sk-item {position: relative;z-index: 1;}#sk-container-id-2 div.sk-parallel {display: flex;align-items: stretch;justify-content: center;background-color: white;position: relative;}#sk-container-id-2 div.sk-item::before, #sk-container-id-2 div.sk-parallel-item::before {content: \"\";position: absolute;border-left: 1px solid gray;box-sizing: border-box;top: 0;bottom: 0;left: 50%;z-index: -1;}#sk-container-id-2 div.sk-parallel-item {display: flex;flex-direction: column;z-index: 1;position: relative;background-color: white;}#sk-container-id-2 div.sk-parallel-item:first-child::after {align-self: flex-end;width: 50%;}#sk-container-id-2 div.sk-parallel-item:last-child::after {align-self: flex-start;width: 50%;}#sk-container-id-2 div.sk-parallel-item:only-child::after {width: 0;}#sk-container-id-2 div.sk-dashed-wrapped {border: 1px dashed gray;margin: 0 0.4em 0.5em 0.4em;box-sizing: border-box;padding-bottom: 0.4em;background-color: white;}#sk-container-id-2 div.sk-label label {font-family: monospace;font-weight: bold;display: inline-block;line-height: 1.2em;}#sk-container-id-2 div.sk-label-container {text-align: center;}#sk-container-id-2 div.sk-container {/* jupyter's `normalize.less` sets `[hidden] { display: none; }` but bootstrap.min.css set `[hidden] { display: none !important; }` so we also need the `!important` here to be able to override the default hidden behavior on the sphinx rendered scikit-learn.org. See: https://github.com/scikit-learn/scikit-learn/issues/21755 */display: inline-block !important;position: relative;}#sk-container-id-2 div.sk-text-repr-fallback {display: none;}</style><div id=\"sk-container-id-2\" class=\"sk-top-container\"><div class=\"sk-text-repr-fallback\"><pre>RandomForestRegressor(random_state=42)</pre><b>In a Jupyter environment, please rerun this cell to show the HTML representation or trust the notebook. <br />On GitHub, the HTML representation is unable to render, please try loading this page with nbviewer.org.</b></div><div class=\"sk-container\" hidden><div class=\"sk-item\"><div class=\"sk-estimator sk-toggleable\"><input class=\"sk-toggleable__control sk-hidden--visually\" id=\"sk-estimator-id-2\" type=\"checkbox\" checked><label for=\"sk-estimator-id-2\" class=\"sk-toggleable__label sk-toggleable__label-arrow\">RandomForestRegressor</label><div class=\"sk-toggleable__content\"><pre>RandomForestRegressor(random_state=42)</pre></div></div></div></div></div>"
            ]
          },
          "metadata": {},
          "execution_count": 54
        }
      ]
    },
    {
      "cell_type": "code",
      "source": [
        "# Predict on test data\n",
        "y_pred = model.predict(X_test)"
      ],
      "metadata": {
        "id": "GsIEF6dyZwzd"
      },
      "execution_count": null,
      "outputs": []
    },
    {
      "cell_type": "code",
      "source": [
        "# Evaluate the model\n",
        "mae = mean_absolute_error(y_test, y_pred)\n",
        "print(f'Mean Absolute Error: {mae}')"
      ],
      "metadata": {
        "colab": {
          "base_uri": "https://localhost:8080/"
        },
        "id": "E_6BxOIQZ16M",
        "outputId": "deb3bc27-7bdd-4467-f113-4205e1dcff07"
      },
      "execution_count": null,
      "outputs": [
        {
          "output_type": "stream",
          "name": "stdout",
          "text": [
            "Mean Absolute Error: 223.6457242605053\n"
          ]
        }
      ]
    },
    {
      "cell_type": "code",
      "source": [
        "# Calculate MAPE\n",
        "def mean_absolute_percentage_error(y_true, y_pred):\n",
        "    y_true, y_pred = np.array(y_true), np.array(y_pred)\n",
        "    return np.mean(np.abs((y_true - y_pred) / y_true)) * 100"
      ],
      "metadata": {
        "id": "ASMwV-aMZ5Qh"
      },
      "execution_count": null,
      "outputs": []
    },
    {
      "cell_type": "code",
      "source": [
        "\n",
        "mape = mean_absolute_percentage_error(y_test, y_pred)\n",
        "print(f'Mean Absolute Percentage Error: {mape:.2f}%')"
      ],
      "metadata": {
        "colab": {
          "base_uri": "https://localhost:8080/"
        },
        "id": "OaZ2nW16aAZ_",
        "outputId": "b270dfca-89ff-436c-d858-953a5a687809"
      },
      "execution_count": null,
      "outputs": [
        {
          "output_type": "stream",
          "name": "stdout",
          "text": [
            "Mean Absolute Percentage Error: 1.53%\n"
          ]
        }
      ]
    },
    {
      "cell_type": "code",
      "source": [
        "accuracy = 100 - mape\n",
        "print(f'Accuracy: {accuracy:.2f}%')"
      ],
      "metadata": {
        "colab": {
          "base_uri": "https://localhost:8080/"
        },
        "id": "Dzvx_ExTaCP1",
        "outputId": "4cbd40ce-620c-4473-9ecf-c1b1684fc32c"
      },
      "execution_count": null,
      "outputs": [
        {
          "output_type": "stream",
          "name": "stdout",
          "text": [
            "Accuracy: 98.47%\n"
          ]
        }
      ]
    },
    {
      "cell_type": "code",
      "source": [
        "# Calculate the percentage of predictions within 500 MW error\n",
        "within_500_mw = np.mean(np.abs(y_test - y_pred) <= 500) * 100\n",
        "print(f'Percentage of predictions within 500 MW error: {within_500_mw:.2f}%')"
      ],
      "metadata": {
        "colab": {
          "base_uri": "https://localhost:8080/"
        },
        "id": "aYFpkheSaIuq",
        "outputId": "fd6b9e65-f617-4a6c-8b9c-b58b437cd0d3"
      },
      "execution_count": null,
      "outputs": [
        {
          "output_type": "stream",
          "name": "stdout",
          "text": [
            "Percentage of predictions within 500 MW error: 91.63%\n"
          ]
        }
      ]
    },
    {
      "cell_type": "code",
      "source": [
        "# Save the model\n",
        "joblib.dump(model, 'electricity_demand_model.pkl')"
      ],
      "metadata": {
        "colab": {
          "base_uri": "https://localhost:8080/"
        },
        "id": "fYi-5F7wt_Ml",
        "outputId": "728ceb8a-08b8-481e-a98e-21fd8178c61c"
      },
      "execution_count": null,
      "outputs": [
        {
          "output_type": "execute_result",
          "data": {
            "text/plain": [
              "['electricity_demand_model.pkl']"
            ]
          },
          "metadata": {},
          "execution_count": 61
        }
      ]
    },
    {
      "cell_type": "code",
      "source": [
        "# Load the model for prediction\n",
        "model = joblib.load('electricity_demand_model.pkl')"
      ],
      "metadata": {
        "id": "n3U8VY8luCqd"
      },
      "execution_count": null,
      "outputs": []
    },
    {
      "cell_type": "code",
      "source": [
        "# Specify the target date (e.g., July 15th)\n",
        "target_date = '2023-07-15'\n",
        "date_df = pd.date_range(start=target_date, periods=24, freq='H').to_frame(index=False, name='Date')"
      ],
      "metadata": {
        "id": "NfmxVGImBYGR"
      },
      "execution_count": null,
      "outputs": []
    },
    {
      "cell_type": "code",
      "source": [
        "# Add time-based features for the target date\n",
        "date_df['Hour'] = date_df['Date'].dt.hour\n",
        "date_df['Day'] = date_df['Date'].dt.day\n",
        "date_df['Month'] = date_df['Date'].dt.month\n",
        "date_df['Weekday'] = date_df['Date'].dt.weekday\n"
      ],
      "metadata": {
        "id": "pICUk_YgBs1h"
      },
      "execution_count": null,
      "outputs": []
    },
    {
      "cell_type": "code",
      "source": [
        "# Calculate the mean values of the weather-related columns for the target date\n",
        "mean_values = df[scaled_features].mean()\n",
        "mean_hoep = df['HOEP'].mean()"
      ],
      "metadata": {
        "id": "WgBMk1mzBxIr"
      },
      "execution_count": null,
      "outputs": []
    },
    {
      "cell_type": "code",
      "source": [
        "# Add mean values of weather-related columns to date_df\n",
        "for feature in scaled_features:\n",
        "    date_df[feature] = mean_values[feature]"
      ],
      "metadata": {
        "id": "iOSld9FoBzGs"
      },
      "execution_count": null,
      "outputs": []
    },
    {
      "cell_type": "code",
      "source": [
        "# Add the HOEP column with the mean value\n",
        "date_df['HOEP'] = mean_hoep"
      ],
      "metadata": {
        "id": "dxK7Jzo5CkCH"
      },
      "execution_count": null,
      "outputs": []
    },
    {
      "cell_type": "code",
      "source": [
        "\n",
        "# Add placeholder columns for lag features\n",
        "for lag in range(1, 25):\n",
        "    date_df[f'Ontario_Demand_lag_{lag}'] = np.nan"
      ],
      "metadata": {
        "id": "85J94t4fB2FM"
      },
      "execution_count": null,
      "outputs": []
    },
    {
      "cell_type": "code",
      "source": [
        "# Use the most recent known demand values to fill in the lag features\n",
        "latest_demand_values = df['Ontario_Demand'].tail(24).values\n",
        "for i in range(24):\n",
        "    for lag in range(1, 25):\n",
        "        if i - lag >= 0:\n",
        "            date_df.at[i, f'Ontario_Demand_lag_{lag}'] = latest_demand_values[i - lag]\n",
        "        else:\n",
        "            date_df.at[i, f'Ontario_Demand_lag_{lag}'] = latest_demand_values[lag - i - 1]\n"
      ],
      "metadata": {
        "id": "WfNyzZRtB9fT"
      },
      "execution_count": null,
      "outputs": []
    },
    {
      "cell_type": "code",
      "source": [
        "# Scale the features\n",
        "date_df[scaled_features] = scaler.transform(date_df[scaled_features])"
      ],
      "metadata": {
        "id": "Ebl66uGuB_gi"
      },
      "execution_count": null,
      "outputs": []
    },
    {
      "cell_type": "code",
      "source": [
        "# Drop the 'Date' column before prediction\n",
        "date_df.drop(columns=['Date'], inplace=True)"
      ],
      "metadata": {
        "id": "3jfCJBdjCD6W"
      },
      "execution_count": null,
      "outputs": []
    },
    {
      "cell_type": "code",
      "source": [
        "\n",
        "# Predict for the target date\n",
        "predictions = model.predict(date_df[features])"
      ],
      "metadata": {
        "id": "_2yanLcSH62O"
      },
      "execution_count": null,
      "outputs": []
    },
    {
      "cell_type": "code",
      "source": [
        "# Visualize the forecast\n",
        "plt.figure(figsize=(12, 6))\n",
        "plt.plot(predictions, label='Predicted Demand', linestyle='--')\n",
        "plt.legend()\n",
        "plt.xlabel('Hour')\n",
        "plt.ylabel('Electricity Demand (MW)')\n",
        "plt.title(f'24-Hour Electricity Demand Forecast for {target_date}')\n",
        "plt.show()"
      ],
      "metadata": {
        "colab": {
          "base_uri": "https://localhost:8080/",
          "height": 564
        },
        "id": "nEzDdG_OH-AC",
        "outputId": "7e50e89f-d660-4fe6-b933-b443362c8201"
      },
      "execution_count": null,
      "outputs": [
        {
          "output_type": "display_data",
          "data": {
            "text/plain": [
              "<Figure size 1200x600 with 1 Axes>"
            ],
            "image/png": "[encoded data removed]"
          },
          "metadata": {}
        }
      ]
    },
    {
      "cell_type": "code",
      "source": [
        "# Print the predictions\n",
        "print(f'24-Hour Electricity Demand Forecast for {target_date}:')\n",
        "print(predictions)"
      ],
      "metadata": {
        "colab": {
          "base_uri": "https://localhost:8080/"
        },
        "id": "67o7NvoGILCs",
        "outputId": "07de1365-4307-420d-a6ea-ac57122977b4"
      },
      "execution_count": null,
      "outputs": [
        {
          "output_type": "stream",
          "name": "stdout",
          "text": [
            "24-Hour Electricity Demand Forecast for 2023-07-15:\n",
            "[15463.93 15157.84 14481.67 13538.99 13085.51 13253.03 13078.76 13233.62\n",
            " 13751.62 14671.73 15526.56 15472.03 15768.   15751.25 15786.63 15878.15\n",
            " 15398.95 15865.1  16278.99 16925.55 17300.48 16122.95 15379.24 15007.01]\n"
          ]
        }
      ]
    },
    {
      "cell_type": "markdown",
      "source": [
        "# Problem Statement:\n",
        "We need to predict the demand for the next 24 hours by utilizing past electricity demand data points, humidity, temperature, dew point, and other drivers like weekdays, holidays, and etc.\n",
        "\n",
        "Inputs: sample data.csv is attached.\n",
        "\n",
        "Output: A 24-hour demand forecast for a sample day in July or August.\n",
        "\n",
        "General Requirements The data set may contain outliers and abnormal values. This is everything you need to know about having a better development experience.\n",
        "\n",
        "\n",
        "# Solutions:\n",
        " Step1: Import all the requirement libraries and load the data.\n",
        "\n",
        "Step2: preprocessing of the data and convert the data according to the required format.\n",
        "\n",
        "Step3: split the data into the train and test.\n",
        "\n",
        "Step4:\n",
        "Model selection:\n",
        "\n",
        " I use the Random forests model it is a way of averaging multiple deep decision trees, trained on different parts of the same training set, with the goal of reducing the variance.Selecting the optimized language model careful evaluation of multiple criteria and the trade-offs amongst them. As you consider options, take into account details of your specific use case, domain data, customization requirements, context size etc.\n",
        "\n",
        "model = RandomForestRegressor(n_estimators=100, random_state=42)\n",
        "model.fit(X_train, y_train)\n",
        "\n",
        "# Predict on test data\n",
        "y_pred = model.predict(X_test)\n",
        "\n",
        "Step5:\n",
        "Evaluation metric :\n",
        "(1) Mean Absolute Error:It is the absolute sum of total errors values obtained from the difference of estimated and measured values divide by number of observations.\n",
        "\n",
        "mae = mean_absolute_error(y_test, y_pred)\n",
        "print(f'Mean Absolute Error: {mae}')\n",
        "\n",
        "result:Mean Absolute Error: 223.6457242605053\n",
        "\n",
        "(2)mean absolute percentag error: it is a relative error measure that uses absolute values to keep the positive and negative errors from canceling one another out.\n",
        "\n",
        "def mean_absolute_percentage_error(y_true, y_pred):\n",
        "    y_true, y_pred = np.array(y_true), np.array(y_pred)\n",
        "    return np.mean(np.abs((y_true - y_pred) / y_true)) * 100\n",
        "\n",
        "mape = mean_absolute_percentage_error(y_test, y_pred)\n",
        "print(f'Mean Absolute Percentage Error: {mape:.2f}%')\n",
        "\n",
        "result:Mean Absolute Percentage Error: 1.53%\n",
        "\n",
        "step6:\n",
        "final Result:\n",
        "\n",
        "Accuracy:is a metric that measures how often a machine learning model correctly predicts the outcome.\n",
        "accuracy = 100 - mape\n",
        "print(f'Accuracy: {accuracy:.2f}%')\n",
        "Accuracy: 98.47%\n",
        "\n"
      ],
      "metadata": {
        "id": "7EOj61ls02dO"
      }
    },
    {
      "cell_type": "code",
      "source": [],
      "metadata": {
        "id": "1w7Agnk2AMP0"
      },
      "execution_count": null,
      "outputs": []
    }
  ]
}